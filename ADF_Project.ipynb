{
  "nbformat": 4,
  "nbformat_minor": 0,
  "metadata": {
    "colab": {
      "provenance": [],
      "toc_visible": true
    },
    "kernelspec": {
      "name": "python3",
      "display_name": "Python 3"
    },
    "language_info": {
      "name": "python"
    }
  },
  "cells": [
    {
      "cell_type": "markdown",
      "source": [
        "# **Import**\n"
      ],
      "metadata": {
        "id": "MAIRBjb2Uo0L"
      }
    },
    {
      "cell_type": "code",
      "source": [
        "import pandas as pd\n",
        "import numpy as np\n",
        "import matplotlib.pyplot as plt\n",
        "import seaborn as sns\n",
        "import tensorflow as tf\n",
        "import sklearn\n"
      ],
      "metadata": {
        "id": "rbtC68TyKrWT"
      },
      "execution_count": null,
      "outputs": []
    },
    {
      "cell_type": "markdown",
      "source": [
        "# **Loading Dataset**\n"
      ],
      "metadata": {
        "id": "-L7ulXfNUsYS"
      }
    },
    {
      "cell_type": "code",
      "source": [
        "# Load the dataset into a DataFrame\n",
        "data = pd.read_csv(r'adf_fp.csv')\n",
        "\n",
        "# Display the first few rows of the dataset\n",
        "print(data.info())\n"
      ],
      "metadata": {
        "colab": {
          "base_uri": "https://localhost:8080/"
        },
        "id": "bmd269wJ9pvT",
        "outputId": "3b2be5b1-b22a-439f-f900-54da26987905"
      },
      "execution_count": null,
      "outputs": [
        {
          "output_type": "stream",
          "name": "stdout",
          "text": [
            "<class 'pandas.core.frame.DataFrame'>\n",
            "RangeIndex: 9721 entries, 0 to 9720\n",
            "Data columns (total 13 columns):\n",
            " #   Column                 Non-Null Count  Dtype \n",
            "---  ------                 --------------  ----- \n",
            " 0   Timestamp              9721 non-null   object\n",
            " 1   User                   9721 non-null   object\n",
            " 2   Action                 9721 non-null   object\n",
            " 3   File_Involved          7744 non-null   object\n",
            " 4   Network_IP             7771 non-null   object\n",
            " 5   Process_Name           9721 non-null   object\n",
            " 6   Registry_Modified      9721 non-null   int64 \n",
            " 7   Persistence_Technique  7306 non-null   object\n",
            " 8   Log_Cleared            9721 non-null   int64 \n",
            " 9   Timestomped            9721 non-null   int64 \n",
            " 10  Encoded_Payload        9721 non-null   int64 \n",
            " 11  Encrypted_Channel      9721 non-null   int64 \n",
            " 12  Uses_Anti_Forensics    9721 non-null   int64 \n",
            "dtypes: int64(6), object(7)\n",
            "memory usage: 987.4+ KB\n",
            "None\n"
          ]
        }
      ]
    },
    {
      "cell_type": "markdown",
      "source": [
        "# **Total Records**\n"
      ],
      "metadata": {
        "id": "FPWaGgOrU5dA"
      }
    },
    {
      "cell_type": "code",
      "source": [
        "print(\"Total Records:\", len(data))\n"
      ],
      "metadata": {
        "colab": {
          "base_uri": "https://localhost:8080/"
        },
        "id": "5mQipdy5Uibk",
        "outputId": "1e166abc-e483-4258-ec6a-b198dd18e233"
      },
      "execution_count": null,
      "outputs": [
        {
          "output_type": "stream",
          "name": "stdout",
          "text": [
            "Total Records: 9721\n"
          ]
        }
      ]
    },
    {
      "cell_type": "markdown",
      "source": [
        "# **Columns**"
      ],
      "metadata": {
        "id": "UN77iVTHU7TI"
      }
    },
    {
      "cell_type": "code",
      "source": [
        "data.columns\n"
      ],
      "metadata": {
        "colab": {
          "base_uri": "https://localhost:8080/"
        },
        "id": "SfOEfSTQUfVD",
        "outputId": "252819ff-52b4-4145-f15d-12467d473d21"
      },
      "execution_count": null,
      "outputs": [
        {
          "output_type": "execute_result",
          "data": {
            "text/plain": [
              "Index(['Timestamp', 'User', 'Action', 'File_Involved', 'Network_IP',\n",
              "       'Process_Name', 'Registry_Modified', 'Persistence_Technique',\n",
              "       'Log_Cleared', 'Timestomped', 'Encoded_Payload', 'Encrypted_Channel',\n",
              "       'Uses_Anti_Forensics'],\n",
              "      dtype='object')"
            ]
          },
          "metadata": {},
          "execution_count": 26
        }
      ]
    },
    {
      "cell_type": "markdown",
      "source": [
        "# **Null Values**"
      ],
      "metadata": {
        "id": "6Y2mbD9XZeTu"
      }
    },
    {
      "cell_type": "code",
      "source": [
        "\n",
        "# Check for null values in each column\n",
        "print(data.isnull().sum())\n"
      ],
      "metadata": {
        "colab": {
          "base_uri": "https://localhost:8080/"
        },
        "id": "VCl2eA8LZH_e",
        "outputId": "bc018173-836c-478c-aee5-7db4e5e97363"
      },
      "execution_count": null,
      "outputs": [
        {
          "output_type": "stream",
          "name": "stdout",
          "text": [
            "Timestamp                   0\n",
            "User                        0\n",
            "Action                      0\n",
            "File_Involved            1977\n",
            "Network_IP               1950\n",
            "Process_Name                0\n",
            "Registry_Modified           0\n",
            "Persistence_Technique    2415\n",
            "Log_Cleared                 0\n",
            "Timestomped                 0\n",
            "Encoded_Payload             0\n",
            "Encrypted_Channel           0\n",
            "Uses_Anti_Forensics         0\n",
            "dtype: int64\n"
          ]
        }
      ]
    },
    {
      "cell_type": "markdown",
      "source": [
        "# **Target Column -> *Checking Balance***\n",
        "\n",
        "\n",
        "\n"
      ],
      "metadata": {
        "id": "EOAjai9nU_g2"
      }
    },
    {
      "cell_type": "code",
      "source": [
        "# Load the dataset into a DataFrame\n",
        "data = pd.read_csv(r'adf_fp.csv')\n",
        "\n",
        "# Filter out rows where 'Users_Anti_Forensics' is not NaN\n",
        "available_users = data.dropna(subset=['Uses_Anti_Forensics'])\n",
        "\n",
        "# Create a bar chart of the available records for 'Users_Anti_Forensics'\n",
        "plt.figure(figsize=(10, 6))  # Adjust figure size for better visualization\n",
        "sns.countplot(x='Uses_Anti_Forensics', data=available_users)\n",
        "\n",
        "plt.title('Bar Chart of Available Records for Users Anti-Forensics')\n",
        "plt.xlabel('Users Anti-Forensics')\n",
        "plt.ylabel('Number of Records')\n",
        "plt.xticks(rotation=45, ha='right')  # Rotate x-axis labels for readability\n",
        "plt.tight_layout()\n",
        "plt.show()\n"
      ],
      "metadata": {
        "colab": {
          "base_uri": "https://localhost:8080/",
          "height": 607
        },
        "id": "dfkj1So2TFGs",
        "outputId": "03f1c5fa-6171-46dd-b6ce-250bda964f62"
      },
      "execution_count": null,
      "outputs": [
        {
          "output_type": "display_data",
          "data": {
            "text/plain": [
              "<Figure size 1000x600 with 1 Axes>"
            ],
            "image/png": "[encoded data removed]"
          },
          "metadata": {}
        }
      ]
    },
    {
      "cell_type": "markdown",
      "source": [
        "# **Splitting Dataset**"
      ],
      "metadata": {
        "id": "hnnJfaOfbWr6"
      }
    },
    {
      "cell_type": "code",
      "source": [
        "# Load the dataset\n",
        "data = pd.read_csv(\"adf_fp.csv\")\n",
        "\n",
        "# Total records\n",
        "total_records = len(data)\n",
        "\n",
        "# Calculate split sizes\n",
        "train_size = int(0.7 * total_records)\n",
        "val_size = int(0.2 * total_records)\n",
        "test_size = total_records - train_size - val_size\n",
        "\n",
        "# Print percentages\n",
        "print(f\"\\n🔹 Training set: {train_size} ({train_size / total_records * 100:.2f}%)\")\n",
        "print(f\"🔹 Validation set: {val_size} ({val_size / total_records * 100:.2f}%)\")\n",
        "print(f\"🔹 Test set: {test_size} ({test_size / total_records * 100:.2f}%)\")\n"
      ],
      "metadata": {
        "colab": {
          "base_uri": "https://localhost:8080/"
        },
        "id": "NbbAY9cpVQZs",
        "outputId": "62b925fa-5216-498e-c1c6-89c23e9e41a3"
      },
      "execution_count": null,
      "outputs": [
        {
          "output_type": "stream",
          "name": "stdout",
          "text": [
            "\n",
            "🔹 Training set: 6804 (69.99%)\n",
            "🔹 Validation set: 1944 (20.00%)\n",
            "🔹 Test set: 973 (10.01%)\n"
          ]
        }
      ]
    },
    {
      "cell_type": "markdown",
      "source": [
        "# **Choosing Features**"
      ],
      "metadata": {
        "id": "7klnhRx7VP1u"
      }
    },
    {
      "cell_type": "code",
      "source": [
        "import pandas as pd\n",
        "from sklearn.model_selection import train_test_split\n",
        "from sklearn.ensemble import RandomForestClassifier\n",
        "from sklearn.metrics import accuracy_score, classification_report\n",
        "\n",
        "# Load the dataset (assuming it's already loaded as 'data')\n",
        "# If not, uncomment the following line and adjust the file path\n",
        "# data = pd.read_csv('adf_fp.csv')\n",
        "\n",
        "# Define features (X) and target (y)\n",
        "features = ['File_Involved', 'Process_Name', 'Registry_Modified',\n",
        "            'Persistence_Technique', 'Log_Cleared', 'Encoded_Payload',\n",
        "            'Encrypted_Channel']\n",
        "target = 'Uses_Anti_Forensics'\n",
        "\n",
        "# Convert categorical features to numerical using one-hot encoding\n",
        "X = pd.get_dummies(data[features], drop_first=True)  # drop_first avoids multicollinearity\n",
        "y = data[target]"
      ],
      "metadata": {
        "id": "pgB7WqcqOpC0"
      },
      "execution_count": null,
      "outputs": []
    },
    {
      "cell_type": "markdown",
      "source": [
        "# **Running ML Models**"
      ],
      "metadata": {
        "id": "F95zStdjejXq"
      }
    },
    {
      "cell_type": "code",
      "source": [
        "import pandas as pd\n",
        "from sklearn.model_selection import train_test_split\n",
        "from sklearn.metrics import precision_recall_fscore_support, confusion_matrix\n",
        "from sklearn.ensemble import RandomForestClassifier\n",
        "from sklearn.linear_model import LogisticRegression\n",
        "from xgboost import XGBClassifier\n",
        "\n",
        "# Load the dataset\n",
        "data = pd.read_csv(\"adf_fp.csv\")\n",
        "\n",
        "# Display dataset info\n",
        "print(\"\\n📊 Dataset Info:\")\n",
        "print(data.info())\n",
        "\n",
        "# Total records\n",
        "total_records = len(data)\n",
        "print(f\"\\n📌 Total records: {total_records}\")\n",
        "\n",
        "# Calculate split sizes\n",
        "train_size = int(0.7 * total_records)\n",
        "val_size = int(0.2 * total_records)\n",
        "test_size = total_records - train_size - val_size\n",
        "\n",
        "# Print percentages\n",
        "print(f\"\\n🔹 Training set: {train_size} ({train_size / total_records * 100:.2f}%)\")\n",
        "print(f\"🔹 Validation set: {val_size} ({val_size / total_records * 100:.2f}%)\")\n",
        "print(f\"🔹 Test set: {test_size} ({test_size / total_records * 100:.2f}%)\")\n",
        "\n",
        "# Split the data\n",
        "train_data, temp_data = train_test_split(data, train_size=train_size, random_state=42)\n",
        "val_data, test_data = train_test_split(temp_data, train_size=val_size / (val_size + test_size), random_state=42)\n",
        "\n",
        "# Combine training + validation\n",
        "combined_train_data = pd.concat([train_data, val_data])\n",
        "\n",
        "# Features and target\n",
        "features = ['File_Involved', 'Process_Name', 'Registry_Modified',\n",
        "            'Persistence_Technique', 'Log_Cleared', 'Encoded_Payload', 'Encrypted_Channel']\n",
        "target = 'Uses_Anti_Forensics'\n",
        "\n",
        "# One-hot encode categorical features\n",
        "X_train = pd.get_dummies(combined_train_data[features], drop_first=True)\n",
        "X_test = pd.get_dummies(test_data[features], drop_first=True)\n",
        "\n",
        "# Align test set with train set\n",
        "X_test = X_test.reindex(columns=X_train.columns, fill_value=0)\n",
        "\n",
        "y_train = combined_train_data[target].astype(int)\n",
        "y_test = test_data[target].astype(int)\n",
        "\n",
        "# Initialize models\n",
        "models = {\n",
        "    \"Random Forest\": RandomForestClassifier(random_state=42),\n",
        "    \"Logistic Regression\": LogisticRegression(max_iter=1000),\n",
        "    \"XGBoost\": XGBClassifier(use_label_encoder=False, eval_metric='logloss')\n",
        "}\n",
        "\n",
        "# Train and evaluate\n",
        "print(\"\\n📈 Model Performance Metrics:\")\n",
        "for name, model in models.items():\n",
        "    model.fit(X_train, y_train)\n",
        "    y_pred = model.predict(X_test)\n",
        "\n",
        "    precision, recall, f1, _ = precision_recall_fscore_support(y_test, y_pred, average='binary')\n",
        "    tn, fp, fn, tp = confusion_matrix(y_test, y_pred).ravel()\n",
        "\n",
        "    print(f\"\\n🔹 {name}\")\n",
        "    print(f\"Precision:        {precision:.4f}\")\n",
        "    print(f\"Recall:           {recall:.4f}\")\n",
        "    print(f\"F1-Score:         {f1:.4f}\")\n",
        "    print(f\"False Positives:  {fp}\")\n",
        "\n"
      ],
      "metadata": {
        "colab": {
          "base_uri": "https://localhost:8080/"
        },
        "id": "q_UWitFwST-1",
        "outputId": "535f25aa-053e-4221-df5d-85ecc40aae4a"
      },
      "execution_count": null,
      "outputs": [
        {
          "output_type": "stream",
          "name": "stdout",
          "text": [
            "\n",
            "📊 Dataset Info:\n",
            "<class 'pandas.core.frame.DataFrame'>\n",
            "RangeIndex: 9721 entries, 0 to 9720\n",
            "Data columns (total 13 columns):\n",
            " #   Column                 Non-Null Count  Dtype \n",
            "---  ------                 --------------  ----- \n",
            " 0   Timestamp              9721 non-null   object\n",
            " 1   User                   9721 non-null   object\n",
            " 2   Action                 9721 non-null   object\n",
            " 3   File_Involved          7744 non-null   object\n",
            " 4   Network_IP             7771 non-null   object\n",
            " 5   Process_Name           9721 non-null   object\n",
            " 6   Registry_Modified      9721 non-null   int64 \n",
            " 7   Persistence_Technique  7306 non-null   object\n",
            " 8   Log_Cleared            9721 non-null   int64 \n",
            " 9   Timestomped            9721 non-null   int64 \n",
            " 10  Encoded_Payload        9721 non-null   int64 \n",
            " 11  Encrypted_Channel      9721 non-null   int64 \n",
            " 12  Uses_Anti_Forensics    9721 non-null   int64 \n",
            "dtypes: int64(6), object(7)\n",
            "memory usage: 987.4+ KB\n",
            "None\n",
            "\n",
            "📌 Total records: 9721\n",
            "\n",
            "🔹 Training set: 6804 (69.99%)\n",
            "🔹 Validation set: 1944 (20.00%)\n",
            "🔹 Test set: 973 (10.01%)\n",
            "\n",
            "📈 Model Performance Metrics:\n",
            "\n",
            "🔹 Random Forest\n",
            "Precision:        0.7273\n",
            "Recall:           0.9412\n",
            "F1-Score:         0.8205\n",
            "False Positives:  246\n",
            "\n",
            "🔹 Logistic Regression\n",
            "Precision:        0.7156\n",
            "Recall:           1.0000\n",
            "F1-Score:         0.8342\n",
            "False Positives:  277\n",
            "\n",
            "🔹 XGBoost\n",
            "Precision:        0.7267\n",
            "Recall:           0.9383\n",
            "F1-Score:         0.8190\n",
            "False Positives:  246\n"
          ]
        },
        {
          "output_type": "stream",
          "name": "stderr",
          "text": [
            "/usr/local/lib/python3.11/dist-packages/xgboost/core.py:158: UserWarning: [16:41:02] WARNING: /workspace/src/learner.cc:740: \n",
            "Parameters: { \"use_label_encoder\" } are not used.\n",
            "\n",
            "  warnings.warn(smsg, UserWarning)\n"
          ]
        }
      ]
    }
  ]
}